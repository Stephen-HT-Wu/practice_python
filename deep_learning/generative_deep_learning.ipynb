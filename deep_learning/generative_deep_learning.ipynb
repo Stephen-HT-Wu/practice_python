{
 "cells": [
  {
   "cell_type": "markdown",
   "metadata": {},
   "source": [
    "1. greedy sampling: predictable\n",
    "2. stochastic sampling: interesting\n",
    "3. more entropy, more suprising (p.272-273)"
   ]
  },
  {
   "cell_type": "code",
   "execution_count": 19,
   "metadata": {},
   "outputs": [],
   "source": [
    "import numpy as np\n",
    "import pandas as pd\n",
    "import tensorflow as tf\n",
    "import matplotlib.pyplot as plt\n",
    "import seaborn as sns\n",
    "sns.set()\n",
    "from keras.models import Sequential\n",
    "from keras.layers import Flatten, Dense, Embedding, LSTM"
   ]
  },
  {
   "cell_type": "code",
   "execution_count": 20,
   "metadata": {},
   "outputs": [],
   "source": [
    "import keras\n",
    "path=keras.utils.get_file('nietzsche.txt',origin='https://s3.amazonaws.com/text-datasets/nietzsche.txt')"
   ]
  },
  {
   "cell_type": "code",
   "execution_count": 21,
   "metadata": {},
   "outputs": [],
   "source": [
    "text=open(path,encoding=\"utf-8\").read().lower()"
   ]
  },
  {
   "cell_type": "code",
   "execution_count": 22,
   "metadata": {},
   "outputs": [
    {
     "data": {
      "text/plain": [
       "600893"
      ]
     },
     "execution_count": 22,
     "metadata": {},
     "output_type": "execute_result"
    }
   ],
   "source": [
    "len(text)"
   ]
  },
  {
   "cell_type": "code",
   "execution_count": 23,
   "metadata": {},
   "outputs": [],
   "source": [
    "maxlen=60\n",
    "step=3\n",
    "sentences=[]\n",
    "next_chars=[]\n",
    "for i in range(0, len(text)-maxlen, step):\n",
    "    sentences.append(text[i: i + maxlen]) # overlap\n",
    "    next_chars.append(text[i + maxlen])"
   ]
  },
  {
   "cell_type": "code",
   "execution_count": 24,
   "metadata": {},
   "outputs": [
    {
     "data": {
      "text/plain": [
       "200278"
      ]
     },
     "execution_count": 24,
     "metadata": {},
     "output_type": "execute_result"
    }
   ],
   "source": [
    "len(sentences)"
   ]
  },
  {
   "cell_type": "code",
   "execution_count": 25,
   "metadata": {},
   "outputs": [
    {
     "data": {
      "text/plain": [
       "['preface\\n\\n\\nsupposing that truth is a woman--what then? is the',\n",
       " 'face\\n\\n\\nsupposing that truth is a woman--what then? is there ',\n",
       " 'e\\n\\n\\nsupposing that truth is a woman--what then? is there not']"
      ]
     },
     "execution_count": 25,
     "metadata": {},
     "output_type": "execute_result"
    }
   ],
   "source": [
    "sentences[:3]"
   ]
  },
  {
   "cell_type": "code",
   "execution_count": 26,
   "metadata": {},
   "outputs": [
    {
     "data": {
      "text/plain": [
       "57"
      ]
     },
     "execution_count": 26,
     "metadata": {},
     "output_type": "execute_result"
    }
   ],
   "source": [
    "chars=sorted(list(set(text))) # unique by set\n",
    "len(chars)"
   ]
  },
  {
   "cell_type": "code",
   "execution_count": 27,
   "metadata": {},
   "outputs": [
    {
     "data": {
      "text/plain": [
       "['\\n', ' ', '!']"
      ]
     },
     "execution_count": 27,
     "metadata": {},
     "output_type": "execute_result"
    }
   ],
   "source": [
    "chars[:3]"
   ]
  },
  {
   "cell_type": "code",
   "execution_count": 28,
   "metadata": {},
   "outputs": [],
   "source": [
    "char_indices = dict((char, chars.index(char)) for char in chars)"
   ]
  },
  {
   "cell_type": "code",
   "execution_count": 29,
   "metadata": {},
   "outputs": [],
   "source": [
    "x = np.zeros((len(sentences), maxlen, len(chars)), dtype=bool)\n",
    "y = np.zeros((len(sentences), len(chars)), dtype=bool)"
   ]
  },
  {
   "cell_type": "code",
   "execution_count": 30,
   "metadata": {},
   "outputs": [
    {
     "data": {
      "text/plain": [
       "(200278, 60, 57)"
      ]
     },
     "execution_count": 30,
     "metadata": {},
     "output_type": "execute_result"
    }
   ],
   "source": [
    "x.shape"
   ]
  },
  {
   "cell_type": "code",
   "execution_count": 31,
   "metadata": {},
   "outputs": [
    {
     "data": {
      "text/plain": [
       "(200278, 57)"
      ]
     },
     "execution_count": 31,
     "metadata": {},
     "output_type": "execute_result"
    }
   ],
   "source": [
    "y.shape"
   ]
  },
  {
   "cell_type": "code",
   "execution_count": 32,
   "metadata": {},
   "outputs": [],
   "source": [
    "for i, sentence in enumerate(sentences):\n",
    "    for t, char in enumerate(sentence):\n",
    "        x[i, t, char_indices[char]]=1\n",
    "    y[i, char_indices[next_chars[i]]]=1"
   ]
  },
  {
   "cell_type": "code",
   "execution_count": 33,
   "metadata": {},
   "outputs": [
    {
     "name": "stdout",
     "output_type": "stream",
     "text": [
      "Model: \"sequential_2\"\n",
      "_________________________________________________________________\n",
      "Layer (type)                 Output Shape              Param #   \n",
      "=================================================================\n",
      "lstm_2 (LSTM)                (None, 128)               95232     \n",
      "_________________________________________________________________\n",
      "dense_2 (Dense)              (None, 57)                7353      \n",
      "=================================================================\n",
      "Total params: 102,585\n",
      "Trainable params: 102,585\n",
      "Non-trainable params: 0\n",
      "_________________________________________________________________\n"
     ]
    }
   ],
   "source": [
    "model=keras.models.Sequential()\n",
    "model.add(LSTM(128, input_shape=(maxlen, len(chars))))\n",
    "model.add(Dense(len(chars), activation='softmax'))\n",
    "model.compile(loss='categorical_crossentropy', optimizer=keras.optimizers.RMSprop(lr=0.01))\n",
    "model.summary()"
   ]
  },
  {
   "cell_type": "code",
   "execution_count": 40,
   "metadata": {},
   "outputs": [],
   "source": [
    "# softmax temperature\n",
    "def sample(preds, temperature=1.0):\n",
    "    preds = np.asarray(preds).astype('float64')\n",
    "    preds = np.log(preds)/ temperature\n",
    "    exp_preds = np.exp(preds)\n",
    "    preds = exp_preds / np.sum(exp_preds)\n",
    "    probas =np.random.multinomial(1, preds, 1)\n",
    "    return np.argmax(probas)"
   ]
  },
  {
   "cell_type": "code",
   "execution_count": 41,
   "metadata": {},
   "outputs": [
    {
     "name": "stdout",
     "output_type": "stream",
     "text": [
      "epoch:  1\n",
      "Epoch 1/1\n",
      "200278/200278 [==============================] - 131s 655us/step - loss: 1.4532\n",
      "generated_text: n.\n",
      "\n",
      "\n",
      "80\n",
      "\n",
      "=senility and death.=--apart from the demands made \n",
      "temperature:  0.2\n",
      "n.\n",
      "\n",
      "\n",
      "80\n",
      "\n",
      "=senility and death.=--apart from the demands made the sense of the superior of the subtication of the constance, and the happiness of the subtle contradition of the superior of the present and sense of the concealy and an an aspect to means of the promperation of the concealy and sensible and sense and sense of the fact of the superioring of the concealy of the fact to the concealy to prompted and an aspenians and all the superior of the subtletytemperature:  0.5\n",
      "ompted and an aspenians and all the superior of the subtlety contradition and developments, the subting in moral to really be all the the thus to means in the sutcher of the spirit, even an an according to precisely the world of the desen and all the expecially to an inventive and the whole formerly been the disposed with an animal attain, and have to seasong and most pare the even to self-deamon so great only immense the world is it is\n",
      "nothing himself hastemperature:  1.0\n",
      "so great only immense the world is it is\n",
      "nothing himself has\n",
      "dangin thereby in what be card,\n",
      "things\n",
      "and general\n",
      "impulsion to dommine--lublipuly live to stranginal feeling, authospers for a well, the nateral please anything \"muknate being regard to god\" the\n",
      "deepovens in himself--so a poster matter of that the freely with me mispo\n",
      "un higher higher shouln in mothen such anventingy: hither signal things to views of the\n",
      "go want of wisnoy or knowledge: these\"--gtemperature:  1.2\n",
      "gs to views of the\n",
      "go want of wisnoy or knowledge: these\"--gete\" of while for age the present some prosed to  roraitial philosophy\":--ises to an reven a winy to meansble strangy\n",
      "nom, with of themselvess, if perhapled weeh borefvee\n",
      "injuys oy the devel-sppolournesses, some goty\"-day peas should society slort without its calsi one is a the lays into ca\n",
      "empopored sespective self-old could anttly upising,\n",
      "might , by the oldimitator, christiany in mean: eewince,epoch:  2\n",
      "Epoch 1/1\n",
      "200278/200278 [==============================] - 132s 659us/step - loss: 1.4298\n",
      "generated_text: but is guided in every moment of his life by some holy\n",
      "injun\n",
      "temperature:  0.2\n",
      "but is guided in every moment of his life by some holy\n",
      "injunt and processive and consciences of the sense of the sense of the sense of the sense of the consciences of the most sense of the sense of the sense of the considered and man and an action of the sense of the same will to the sense of the sense of the world and an any problem of the sense of the sense of the same to the present and live to the most man, and a spirit and self-contemplation of the setemperature:  0.5\n",
      " the most man, and a spirit and self-contemplation of the self streation, endured is man\n",
      "is only as a higher that might has all the present themselves the man, and of the considers of the represent and rational still the wark of the power of the lacks of intellect and desired to life, and who are ascerity as a consciences of life of the belief to all any and answer and present and the old moral and liter was he course to the most present and boodness of thtemperature:  1.0\n",
      "d liter was he course to the most present and boodness of the demand, one, any must, bringe, as he and it id by the occeses and loveness with taste when they aapon evilusing of to the\n",
      "lousted, path who with itself is tobimity and courage. above all iffer had is tested.\" should one original training of pulsiful. \n",
      "\n",
      "\n",
      "and incatis at even the ethical some could and howsmenmainge! amfumed and look the most li, for the finals must as been beliefe dmuman not cove,temperature:  1.2\n",
      "ost li, for the finals must as been beliefe dmuman not cove, his lesly differently, low, oe heir oflesting\n",
      "robouns\n",
      "revery of cholition\n",
      "decept vabptious: now,\n",
      "and means whaterority forationancious assares in the oenerfly of \"diepty, has vee it mury thohely. though and lide, light, of thireovot fyintly\n",
      "afther, and high hat him, pratty\n",
      "do sthakes.\n",
      "\n",
      "intwaed pethiishofy eken a sxignded\n",
      "will to his highest prefers, how gives once burd holefulter, the to1 god\n",
      "andepoch:  3\n",
      "Epoch 1/1\n",
      "200278/200278 [==============================] - 131s 653us/step - loss: 1.4125\n",
      "generated_text:  emotional states. if a man is brought to an extraordinary\n",
      "p\n",
      "temperature:  0.2\n",
      " emotional states. if a man is brought to an extraordinary\n",
      "perhaps as a problem of the sense of the fact and sense of the sense of the sense of the sense of the sense to the sense of the sense of the states and perhaps and sense the person of the sense of the sense of the sense of the sense of the sense of the still and sense of the most man is a soul of the still the still and the still and individuals and a states and all the still the sense of the sensetemperature:  0.5\n",
      "iduals and a states and all the still the sense of the sense of the promosic and self of a sense, and are its own self stronging of the superior believe the stand of the most communations are and an existence and the god: it is in the man who are for the instincts to the more not from the way of the far be the same to the care of a man when is\n",
      "unserse the faith the sense of really see is not may an existence upon the period of the freeds and\n",
      "an the transkrtemperature:  1.0\n",
      "n existence upon the period of the freeds and\n",
      "an the transkresm need, wherequiffers and the cateonce: \n",
      "the eyes acquire the sdiched of formay--whate-is flarm for the taken of\n",
      "a religion, he\n",
      "renerable with\n",
      "the\n",
      "creased eithosh because.\n",
      "\n",
      "\n",
      "n3. the hander-existence to a contraden befry nothing what! the gives humances it personance; and not be underly exharred looks and real\n",
      "leter of moral homself in for\n",
      "which, live feelings have not opening\n",
      "pristically nuturiotemperature:  1.2\n",
      "or\n",
      "which, live feelings have not opening\n",
      "pristically nuturion an immense a gerim the wlofter one,\n",
      "where\n",
      "feelings in truth it were only cootness asroc.=--what dearon in itself)! the mjusurs interpretation and relightude\n",
      "failary may netile, somethide in little himself.=--the\n",
      "prompty sense must dis, \n",
      "-can will or knows whette: a ni.n could and without be carriset of no tempolding both at most knowsed, with at goded-nong theme long? air wi hant to chrivail, faepoch:  4\n",
      "Epoch 1/1\n",
      "200278/200278 [==============================] - 134s 671us/step - loss: 1.3983\n",
      "generated_text: s sense, or to self-mutilation,\n",
      "as among the phoenicians and\n",
      "temperature:  0.2\n",
      "s sense, or to self-mutilation,\n",
      "as among the phoenicians and disposed the sense of the sense of the submriness, in the same the promise of the sense of the same that the present distinguor and sunceriors of the sense of the sense of the fact of the present, and the sense of the sense of the same to his supposing that the sense of the sense of the contempt and conscious and interprepration of the same to be the same that the sense of the sense of the sense temperature:  0.5\n",
      "ame to be the same that the sense of the sense of the sense of every desire, this be an except to an except of the prefentarismment of the propessions of the case of the conceals with a power in the one with the greatest of the godunders of the finds point and submrinal forming that the same grow made the same thinker in the desire of the more selflication of the same to say, who, which our self profound in the highest after the fundamental and\n",
      "the consciotemperature:  1.0\n",
      "rofound in the highest after the fundamental and\n",
      "the conscious to all patience--is not every and nrarromed,\n",
      "grow that he a discless, for in it for this greatic of every time to no longer  grages be pivication--dispointwes seling into understood which knowledge; the\n",
      "moral ones are occesionar as whated counters. to something formed under all that dingequity to the senses maghency \"partually wempr with evel-to\n",
      "\"eclose as not salving, developed, intermisy, in temperature:  1.2\n",
      "th evel-to\n",
      "\"eclose as not salving, developed, intermisy, in chistoun, unkead to crifice,\" and to whe preferrepe\n",
      "reason to suppres disent? and iffers, that is his dar\n",
      "frew locy of the germans, wea moric i powhinh\n",
      "recognized justicatescupted and form about use on the goepurding an turrions agi and\n"
     ]
    },
    {
     "name": "stdout",
     "output_type": "stream",
     "text": [
      "allly lead to \n",
      "yet mutuatic,, ask. throuses,\n",
      "comening posslao, this man under the syster and \"1sifficius may repeiteding the ramg been eppoces. that is spectodly tepoch:  5\n",
      "Epoch 1/1\n",
      "200278/200278 [==============================] - 136s 678us/step - loss: 1.3863\n",
      "generated_text: e beholders. founders of religions\n",
      "differ from such great de\n",
      "temperature:  0.2\n",
      "e beholders. founders of religions\n",
      "differ from such great developed and sense of the sense of the contemplation of the most one has he is the sense of the standard and contemplation of the sense of the world of the sense of the sense of the morality of the fact of the standard of the standard of the sense of the fart of the most constant seems and the most superiorious and the organism and and and and not to the contemplation of the sense of the sense of ttemperature:  0.5\n",
      " and not to the contemplation of the sense of the sense of the most and deting the contemplation of the sense of the sense of the death of the health and contemplation of the\n",
      "responsible to the other man he has the english the way, and it is all the extent and the spirituality and inventions and interporent to the sense of the superiorious the one of the antares of the contrary and consider the word what regards to the sense of the standard of the old conttemperature:  1.0\n",
      "rd what regards to the sense of the standard of the old contempcriotion,\n",
      "whe there are it is not power ari\"ge than and\n",
      "firas will treaces higher anarcy generagive finds same things and peasonable prefard userilies\n",
      "bother highertre truen\n",
      "into humatiti to will\n",
      "contermoud frum-feith and a palidianously the consideration\n",
      "and instrume, after the creatured the nigners shishent can possible from a faitd and once the liffor\n",
      "apparima domment, and vigik--neek, greuctemperature:  1.2\n",
      "and once the liffor\n",
      "apparima domment, and vigik--neek, greuch:--much is vuluse which is alreadg.,\n",
      "he have quilly byen elevation-say, swe truth bifverhissyeds what frbed do oirsted naysly\n",
      "flightute were origut.\n",
      "\n",
      "the doe honds have reind onlresef dweitpulablen something or too friends, the unholsed for , heired what plasminity.=--my you soul\"; be, averf--not ir justication soubfrvanicy, circles\n",
      "mafhes for the generalulous who ouchled) and unfertthors for whoepoch:  6\n",
      "Epoch 1/1\n",
      "200278/200278 [==============================] - 131s 655us/step - loss: 1.3759\n",
      "generated_text: hy\n",
      "excess of feeling, upon the accompanying corruption of he\n",
      "temperature:  0.2\n",
      "hy\n",
      "excess of feeling, upon the accompanying corruption of her prisent and absul the most sensible and sense of the sense of the conscanted and soul, and all the sense of the sense of the consequently and sense of the standard of the sense of the sense of the same to the present individual in the stand and sense of the sense of the fact of the sense of the stand of the sense of the sense of the same time one may be all the present enduration of the sense oftemperature:  0.5\n",
      "e time one may be all the present enduration of the sense of a conscasted, the respectation of a men as an allutirity.\n",
      "\n",
      "1lus and wants the heart and experience the inflict and does far instinct schopenhauer in the patical men in the regarded the present standard of the standard of the sense of with the secret and most consequently and\n",
      "soul of all conscience in the deal and light with the instinct of the distinguished, and an advantage the desire to the wortemperature:  1.0\n",
      "of the distinguished, and an advantage the desire to the worldous, themselvew, how the genguarrietfuo, indiousent\n",
      "been\n",
      "greatly moytured anything.\n",
      "\n",
      "2istate\n",
      "authordled kind\n",
      "their eneman\n",
      "tender arnises recounders, of men with them countless every pure emptivoopours! how plebues a tendment the mory, i relatity the yeel--conbolols individual and general danger upon them and defay\n",
      "is spurity on the tavare, when they\n",
      "have form. thene for the pleasurity, inloms\n",
      "shtemperature:  1.2\n",
      "re, when they\n",
      "have form. thene for the pleasurity, inloms\n",
      "should duties at the iprealed what\n",
      "wholly somewands\n",
      "the ritery ofown loy the national-same sins\n",
      "even to de! being, many brounger to suffer\n",
      ", here wule to us all that everything ascredial object. silently, fir--jumply is for ins the prejuday worth absolvourre! oh\"lific, and faith without diventive very account\n",
      "eventuration of things; the duy \n",
      "exretudim. why one cluenory\n",
      "must or our creounly constentnepoch:  7\n",
      "Epoch 1/1\n",
      "200278/200278 [==============================] - 135s 672us/step - loss: 1.3670\n",
      "generated_text: on of youth for its own advantage: relations which\n",
      "many divi\n",
      "temperature:  0.2\n",
      "on of youth for its own advantage: relations which\n",
      "many divine and interpretation of the conscience they are the word and the spirit and and the present and conscience that the word in the spirit and the spirit and consense of the conserve of the consense of the problem of the most conscience and the most beings the philosophers and sense of the strength of the conserved of the strength of the bad that the contempt and the strength of the conserved of the temperature:  0.5\n",
      " that the contempt and the strength of the conserved of the stome with the most has been know the rangering\n",
      "disposed to his bad, and the spirit and concerns and has been desires the basist of his consider and strongers of his contempt are his discoverent nature, with strike in a tendions of the present dears something to the consequences, which is the art of the reason of mankind. he was a world whatever instincts, and of his soul in all the most uneffect,temperature:  1.0\n",
      "hatever instincts, and of his soul in all the most uneffect, task, which is neverid of emotions inmiors is heald\" to the fingents to scall at the emotions. the, enturpercist, i be tret as not nature of the distinguishing in man intuirity for the profound of its charn. bull an\n",
      "ancininguly\n",
      "with a moral! needforoft\n",
      "it\n",
      "sinfularily of acceptunations of the snould. what very caluue injust in\n",
      "one's ad-greatives spirit,\"\n",
      "to time is gragiss of band of sincessful altemperature:  1.2\n",
      "eatives spirit,\"\n",
      "to time is gragiss of band of sincessful allippeth--who seepleted in possible\n",
      "chriot, like,\n",
      "and attreusus; in neither un invest attruge to greatness homy things child here wagnes, they of likewine cenord that the art sherenchigically over agist as i animages? what danself as \"punis of that, no act our peace devolon of overiot, duinr upon fundamentgrance\n",
      "arose and\n",
      "joy, an invertowry wnings finally\n",
      "such asconnich art of seems with generally epoch:  8\n",
      "Epoch 1/1\n",
      "200278/200278 [==============================] - 132s 661us/step - loss: 1.3583\n",
      "generated_text: t\n",
      "try to stand on them, that is to say. the most advanced as\n",
      "temperature:  0.2\n",
      "t\n",
      "try to stand on them, that is to say. the most advanced as a man where it is the sense of the experience of the moral and the sense of the most conscience of the sense of the sense of the same to be self and self and the profound of the sense of the sense of the sense of the consequently the sense of the sense of the sense of the sense of the consequently and the sense of the most and the profound of the belief of profound of the sense of the most serioutemperature:  0.5\n",
      "nd of the belief of profound of the sense of the most seriousness of victues and the attalm of the art of invention the arrist of the same to our self and interporaisons to be so than the contempt of the considerations of the desires of last, and from the woric of every age of the soul of here has a man, the same to the same best or as any in the most heart of the world of the religions, and contempt, and all the means of himself and we new in the considertemperature:  1.0\n",
      "mpt, and all the means of himself and we new in the considere of very mecurage that\n",
      "now\n",
      "reremultary to life, and to later litrds to here wagner wajay\n",
      "syle much sing to see dropd of innitients mose, and the wapted in scientific living for the\n",
      "relight them intilfination of oneen that which\n",
      "dwell\n",
      "you former spitiss to presturaation, we mame judgely set to be standard, and hen all incured, entiry bit\n",
      "\"facts. in the cirectums, that nod, like supetict that as prtemperature:  1.2\n",
      "\"facts. in the cirectums, that nod, like supetict that as preing! lexances of saken\n",
      "know couchs every matters: that into objects ind\n"
     ]
    },
    {
     "name": "stdout",
     "output_type": "stream",
     "text": [
      "victive belief there are centuriesful good oriacy for a delicateony, the individual, oningh.=--that m.zee deal xe-sentiments as far akens\n",
      "conxerences,: he sea low skriad does they pegpribe. its\n",
      "philosophers.\n",
      "\n",
      "fane is accise of clear, , nostablibilism, wenching) hand, would vearito my, and regards ethical hearly\n",
      "lasfly repide epoch:  9\n",
      "Epoch 1/1\n",
      "200278/200278 [==============================] - 133s 662us/step - loss: 1.3524\n",
      "generated_text: him who would be such and lacks this\n",
      "pure integrity of the i\n",
      "temperature:  0.2\n",
      "him who would be such and lacks this\n",
      "pure integrity of the indight far as and and and in the sense of the same as a man has a conscience of the sense of the same to the same to the profound in the profound seems of the contemplated in the action of the same and and seems to the stranges of the profound in the sense of the sense of the sense of the sense of the profound the same to the fact of the sense of the sense of the sense of the same to the profound temperature:  0.5\n",
      "sense of the sense of the sense of the same to the profound and the desires of a things and antimphenorical and decided and desirable in such as in its restartly political promised to the sense of religious contemplated nothing in the fundardly of the most procern in the contemplate of the profound seems and the conscience of an account of every man is its souls and sacrifice, and wherever a since of the contemplated and and remain conscience in the sense temperature:  1.0\n",
      " of the contemplated and and remain conscience in the sense as itself\"--namely be tounr or every good, only. .quteracce and spart and victorically thus but all more gurates in freelfult, it is about care.\n",
      "\n",
      "steracter. he has purely--as a absolutely\n",
      "reparears--in the philosophy, as i is our privicate life it is a la outcess is one anotherdimenth, he grumment has as amomelest consequences and\n",
      "aubventious hand with a will meveriess.\n",
      "\n",
      "1rate so become\n",
      "diarces--ltemperature:  1.2\n",
      "ious hand with a will meveriess.\n",
      "\n",
      "1rate so become\n",
      "diarces--letped adoutes and any man heers--a stirpirent of creelsingly natural blant\n",
      "and therein,\n",
      "through the sotives and fell essentualar conscions of\n",
      "(it or an never judgmes lesion-must trious,\n",
      "dirrtroutsnetan at trained has\n",
      "abrance and rabed quire dardinely, and holless that\n",
      "it mikes us mischess curminmes on\n",
      "the \"bolunity, li, it because soargiking as-rapoon of the  of im of \n",
      "letsible before vinient whic"
     ]
    }
   ],
   "source": [
    "import random\n",
    "import sys\n",
    "for epoch in range(1, 10):\n",
    "    print(\"epoch: \", epoch)\n",
    "    model.fit(x, y, batch_size=128, epochs=1)\n",
    "    \n",
    "    # random initiate from 60 sentences  \n",
    "    start_index = random.randint(0, len(text)- maxlen -1)\n",
    "    generated_text = text[start_index : start_index+ maxlen]\n",
    "    \n",
    "    print(\"generated_text: \" + generated_text)\n",
    "    \n",
    "    for temperature in [0.2, 0.5, 1.0, 1.2]:\n",
    "        print(\"temperature: \", temperature)\n",
    "        sys.stdout.write(generated_text)\n",
    "        \n",
    "        # generate 400 chars\n",
    "        for i in range(400):\n",
    "            sampled = np.zeros((1, maxlen, len(chars)))\n",
    "            for t, char in enumerate(generated_text):\n",
    "                # one-hot encodes\n",
    "                sampled[0, t, char_indices[char]] = 1\n",
    "            preds = model.predict(sampled, verbose=0)[0]\n",
    "            # samples the next char\n",
    "            next_index = sample(preds, temperature)\n",
    "            next_char = chars[next_index]\n",
    "            \n",
    "            generated_text += next_char\n",
    "            generated_text = generated_text[1:]\n",
    "            \n",
    "            sys.stdout.write(next_char)\n",
    "                "
   ]
  },
  {
   "cell_type": "code",
   "execution_count": null,
   "metadata": {},
   "outputs": [],
   "source": []
  }
 ],
 "metadata": {
  "kernelspec": {
   "display_name": "Python 3",
   "language": "python",
   "name": "python3"
  },
  "language_info": {
   "codemirror_mode": {
    "name": "ipython",
    "version": 3
   },
   "file_extension": ".py",
   "mimetype": "text/x-python",
   "name": "python",
   "nbconvert_exporter": "python",
   "pygments_lexer": "ipython3",
   "version": "3.6.10"
  }
 },
 "nbformat": 4,
 "nbformat_minor": 4
}
